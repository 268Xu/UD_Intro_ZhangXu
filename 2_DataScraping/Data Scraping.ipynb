{
 "cells": [
  {
   "cell_type": "code",
   "execution_count": 1,
   "id": "fbe80cb5",
   "metadata": {},
   "outputs": [
    {
     "name": "stdout",
     "output_type": "stream",
     "text": [
      "ArchDaily | Broadcasting Architecture Worldwide\n"
     ]
    }
   ],
   "source": [
    "import selenium\n",
    "from selenium import webdriver\n",
    "from selenium.webdriver.common.by import By\n",
    "from selenium.webdriver.common.keys import Keys\n",
    "from selenium.webdriver.support.ui import Select\n",
    "from selenium.webdriver.support.ui import WebDriverWait\n",
    "from selenium.webdriver.support import expected_conditions as EC\n",
    "from time import sleep\n",
    "\n",
    "driver = webdriver.Chrome()\n",
    "driver.get('https://www.archdaily.com')\n",
    "\n",
    "print(driver.title)\n",
    "\n",
    "title_list = []\n",
    "href_list = []"
   ]
  },
  {
   "cell_type": "code",
   "execution_count": 2,
   "id": "2220afd6",
   "metadata": {},
   "outputs": [],
   "source": [
    "search_query = driver.find_element(\"xpath\",\"//*[@id=\\\"afd-search-actions-mobile\\\"]/div/input\")\n",
    "search_query.send_keys('kindergarden')\n",
    "search_query.send_keys(Keys.RETURN)\n",
    "\n",
    "sleep(2)\n",
    "\n",
    "for i in range(3):\n",
    "    driver.find_element(\"tag name\", \"body\").send_keys(Keys.PAGE_DOWN)\n",
    "    sleep(1)\n",
    "\n",
    "\n",
    "search_result = driver.find_elements(\"class name\", \"gridview__item\")\n",
    "\n",
    "for i in range(len(search_result)):\n",
    "    try: \n",
    "        title = search_result[i].find_element(\"css selector\", \"h3\").text\n",
    "        title_list.append(title.encode('utf-8'))\n",
    "        link = search_result[i].find_element(\"class name\",\"gridview__content\").get_attribute('href')\n",
    "        href_list.append(link.encode('utf-8'))\n",
    "\n",
    "        sleep(1)  \n",
    "\n",
    "    except:\n",
    "        print(\"ERROR\")\n",
    "        pass\n"
   ]
  },
  {
   "cell_type": "code",
   "execution_count": 3,
   "id": "ae73b909",
   "metadata": {},
   "outputs": [],
   "source": [
    "import csv\n",
    "data = zip(title_list, href_list)\n",
    "\n",
    "with open('data.csv', \"w\", newline='') as f:\n",
    "    writer = csv.writer(f) \n",
    "    for row in data:\n",
    "        writer.writerow(row)"
   ]
  },
  {
   "cell_type": "code",
   "execution_count": null,
   "id": "fabf9a1a",
   "metadata": {},
   "outputs": [],
   "source": []
  }
 ],
 "metadata": {
  "kernelspec": {
   "display_name": "Python 3 (ipykernel)",
   "language": "python",
   "name": "python3"
  },
  "language_info": {
   "codemirror_mode": {
    "name": "ipython",
    "version": 3
   },
   "file_extension": ".py",
   "mimetype": "text/x-python",
   "name": "python",
   "nbconvert_exporter": "python",
   "pygments_lexer": "ipython3",
   "version": "3.11.5"
  }
 },
 "nbformat": 4,
 "nbformat_minor": 5
}
