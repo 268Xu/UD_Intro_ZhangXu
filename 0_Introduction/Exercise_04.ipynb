{
 "cells": [
  {
   "cell_type": "code",
   "execution_count": 1,
   "id": "94a16a1f",
   "metadata": {},
   "outputs": [
    {
     "data": {
      "text/plain": [
       "-0.8732972972139946"
      ]
     },
     "execution_count": 1,
     "metadata": {},
     "output_type": "execute_result"
    }
   ],
   "source": [
    "import math\n",
    "math.sin(200)"
   ]
  },
  {
   "cell_type": "code",
   "execution_count": 2,
   "id": "fec52abb",
   "metadata": {},
   "outputs": [
    {
     "data": {
      "text/plain": [
       "0.8623188722876839"
      ]
     },
     "execution_count": 2,
     "metadata": {},
     "output_type": "execute_result"
    }
   ],
   "source": [
    "math.cos(100)"
   ]
  },
  {
   "cell_type": "code",
   "execution_count": 6,
   "id": "46237f62",
   "metadata": {},
   "outputs": [
    {
     "data": {
      "text/plain": [
       "0.9999999999999999"
      ]
     },
     "execution_count": 6,
     "metadata": {},
     "output_type": "execute_result"
    }
   ],
   "source": [
    "math.tan((math.pi)/4)"
   ]
  }
 ],
 "metadata": {
  "kernelspec": {
   "display_name": "Python 3 (ipykernel)",
   "language": "python",
   "name": "python3"
  },
  "language_info": {
   "codemirror_mode": {
    "name": "ipython",
    "version": 3
   },
   "file_extension": ".py",
   "mimetype": "text/x-python",
   "name": "python",
   "nbconvert_exporter": "python",
   "pygments_lexer": "ipython3",
   "version": "3.11.5"
  }
 },
 "nbformat": 4,
 "nbformat_minor": 5
}
