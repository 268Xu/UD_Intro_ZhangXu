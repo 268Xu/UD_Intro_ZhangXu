{
 "cells": [
  {
   "cell_type": "markdown",
   "id": "7d7b8b41",
   "metadata": {},
   "source": [
    "Exercise 08\n",
    "Ask a sentence as input, then print the words in alphabetical order. Hint: look up how to split up a string"
   ]
  },
  {
   "cell_type": "code",
   "execution_count": null,
   "id": "82e7af4a",
   "metadata": {},
   "outputs": [],
   "source": [
    "a = input()\n",
    "\n",
    "b = a.split(' ')\n",
    "\n",
    "b.sort()\n",
    "\n",
    "for item in b:\n",
    "    print(item)"
   ]
  }
 ],
 "metadata": {
  "kernelspec": {
   "display_name": "Python 3 (ipykernel)",
   "language": "python",
   "name": "python3"
  },
  "language_info": {
   "codemirror_mode": {
    "name": "ipython",
    "version": 3
   },
   "file_extension": ".py",
   "mimetype": "text/x-python",
   "name": "python",
   "nbconvert_exporter": "python",
   "pygments_lexer": "ipython3",
   "version": "3.11.5"
  }
 },
 "nbformat": 4,
 "nbformat_minor": 5
}
