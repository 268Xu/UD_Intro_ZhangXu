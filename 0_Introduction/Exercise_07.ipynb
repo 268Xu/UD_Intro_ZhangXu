{
 "cells": [
  {
   "cell_type": "markdown",
   "id": "42a71641",
   "metadata": {},
   "source": [
    "Write a program that picks a random number between 1-20 and makes the user guess until they get the number right. Then print a congratulations message\n",
    "\n",
    "(Find out yourself how to generate a random integer)\n",
    "Bonus: make the user choose the range within which they have to guess\n",
    "Bonus: keep track of how many guesses were made and print this at the end"
   ]
  },
  {
   "cell_type": "code",
   "execution_count": null,
   "id": "07a1f22e",
   "metadata": {},
   "outputs": [],
   "source": [
    "import random\n",
    "\n",
    "a = round(random.random() * 19 + 1)\n",
    "\n",
    "while True:\n",
    "    guess = eval(input())\n",
    "    if guess == a:\n",
    "        print(\"Congratulation!\")\n",
    "        break\n"
   ]
  },
  {
   "cell_type": "code",
   "execution_count": null,
   "id": "4872f33c",
   "metadata": {},
   "outputs": [],
   "source": [
    "import random\n",
    "\n",
    "low = eval(input(\"Input the lowest of the range:\"))\n",
    "high = eval(input(\"Input the highest of the range:\"))\n",
    "\n",
    "if low >= high:\n",
    "    print(\"Invalid input!\")\n",
    "\n",
    "a = random.randint(low, high)\n",
    "track = []\n",
    "    \n",
    "while True:\n",
    "    guess = eval(input())\n",
    "    track.append(guess)\n",
    "    if guess == a:\n",
    "        print(\"Congratulation!\")\n",
    "        break\n",
    "\n",
    "print(track)"
   ]
  }
 ],
 "metadata": {
  "kernelspec": {
   "display_name": "Python 3 (ipykernel)",
   "language": "python",
   "name": "python3"
  },
  "language_info": {
   "codemirror_mode": {
    "name": "ipython",
    "version": 3
   },
   "file_extension": ".py",
   "mimetype": "text/x-python",
   "name": "python",
   "nbconvert_exporter": "python",
   "pygments_lexer": "ipython3",
   "version": "3.11.5"
  }
 },
 "nbformat": 4,
 "nbformat_minor": 5
}
