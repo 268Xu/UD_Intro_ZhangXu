{
 "cells": [
  {
   "cell_type": "markdown",
   "id": "b7f4bfe4",
   "metadata": {},
   "source": [
    "Write a piece of code that prints the first n numbers of the padovan sequence"
   ]
  },
  {
   "cell_type": "code",
   "execution_count": 1,
   "id": "5cf3270e",
   "metadata": {},
   "outputs": [
    {
     "name": "stdout",
     "output_type": "stream",
     "text": [
      "50\n",
      "[1, 1, 1, 2, 2, 3, 4, 5, 7, 9, 12, 16, 21, 28, 37, 49, 65, 86, 114, 151, 200, 265, 351, 465, 616, 816, 1081, 1432, 1897, 2513, 3329, 4410, 5842, 7739, 10252, 13581, 17991, 23833, 31572, 41824, 55405, 73396, 97229, 128801, 170625, 226030, 299426, 396655, 525456, 696081]\n"
     ]
    }
   ],
   "source": [
    "n = int(input())\n",
    "\n",
    "padovan = [1, 1, 1]\n",
    "\n",
    "if n < 3:\n",
    "    print(padovan[:n])\n",
    "else:\n",
    "    for i in range(3, n):\n",
    "        a = padovan[i - 3] + padovan[i - 2]\n",
    "        padovan.append(a)\n",
    "print(padovan)"
   ]
  },
  {
   "cell_type": "code",
   "execution_count": null,
   "id": "e09ca53b",
   "metadata": {},
   "outputs": [],
   "source": []
  }
 ],
 "metadata": {
  "kernelspec": {
   "display_name": "Python 3 (ipykernel)",
   "language": "python",
   "name": "python3"
  },
  "language_info": {
   "codemirror_mode": {
    "name": "ipython",
    "version": 3
   },
   "file_extension": ".py",
   "mimetype": "text/x-python",
   "name": "python",
   "nbconvert_exporter": "python",
   "pygments_lexer": "ipython3",
   "version": "3.11.5"
  }
 },
 "nbformat": 4,
 "nbformat_minor": 5
}
