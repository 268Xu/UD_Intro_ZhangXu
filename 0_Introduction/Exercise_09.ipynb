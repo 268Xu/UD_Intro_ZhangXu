{
 "cells": [
  {
   "cell_type": "markdown",
   "id": "8f648a7a",
   "metadata": {},
   "source": [
    "Write a program using for loops to print a christmas tree of x lines high specified by the user. (use for loops) so for instance, a chrismas tree of 4 high should looks like this:\n",
    "\n",
    "\n",
    "    *\n",
    "   ***\n",
    "  *****\n",
    " *******\n",
    "    |\n",
    "\n",
    "hint: first combine strings into a variable before printing"
   ]
  },
  {
   "cell_type": "code",
   "execution_count": 1,
   "id": "77be2216",
   "metadata": {},
   "outputs": [
    {
     "name": "stdout",
     "output_type": "stream",
     "text": [
      "   *\n",
      "  ***\n",
      " *****\n",
      "*******\n",
      "   |\n"
     ]
    }
   ],
   "source": [
    "for i in range(1, 5):\n",
    "    print(\" \" * (4 - i) + \"*\" * (2 * i - 1))\n",
    "print(\"   |\")"
   ]
  }
 ],
 "metadata": {
  "kernelspec": {
   "display_name": "Python 3 (ipykernel)",
   "language": "python",
   "name": "python3"
  },
  "language_info": {
   "codemirror_mode": {
    "name": "ipython",
    "version": 3
   },
   "file_extension": ".py",
   "mimetype": "text/x-python",
   "name": "python",
   "nbconvert_exporter": "python",
   "pygments_lexer": "ipython3",
   "version": "3.11.5"
  }
 },
 "nbformat": 4,
 "nbformat_minor": 5
}
