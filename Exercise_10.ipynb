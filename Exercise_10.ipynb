{
 "cells": [
  {
   "cell_type": "markdown",
   "id": "b7f4bfe4",
   "metadata": {},
   "source": [
    "Write a piece of code that prints the first n numbers of the padovan sequence"
   ]
  },
  {
   "cell_type": "code",
   "execution_count": null,
   "id": "5cf3270e",
   "metadata": {},
   "outputs": [],
   "source": [
    "n = int(input())\n",
    "\n",
    "padovan = [1, 1, 1]\n",
    "\n",
    "if n < 3:\n",
    "    print(padovan[:n])\n",
    "else:\n",
    "    for i in range(3, n):\n",
    "        a = padovan[i - 3] + padovan[i - 2]\n",
    "        padovan.append(a)\n",
    "print(padovan)"
   ]
  }
 ],
 "metadata": {
  "kernelspec": {
   "display_name": "Python 3 (ipykernel)",
   "language": "python",
   "name": "python3"
  },
  "language_info": {
   "codemirror_mode": {
    "name": "ipython",
    "version": 3
   },
   "file_extension": ".py",
   "mimetype": "text/x-python",
   "name": "python",
   "nbconvert_exporter": "python",
   "pygments_lexer": "ipython3",
   "version": "3.11.5"
  }
 },
 "nbformat": 4,
 "nbformat_minor": 5
}
