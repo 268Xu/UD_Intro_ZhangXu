{
 "cells": [
  {
   "cell_type": "code",
   "execution_count": 1,
   "id": "6af0837e",
   "metadata": {},
   "outputs": [
    {
     "name": "stdout",
     "output_type": "stream",
     "text": [
      "Xu Zhang\n"
     ]
    }
   ],
   "source": [
    "firstname=\"Xu\"\n",
    "lastname=\"Zhang\"\n",
    "print(firstname+\" \"+lastname)"
   ]
  }
 ],
 "metadata": {
  "kernelspec": {
   "display_name": "Python 3 (ipykernel)",
   "language": "python",
   "name": "python3"
  },
  "language_info": {
   "codemirror_mode": {
    "name": "ipython",
    "version": 3
   },
   "file_extension": ".py",
   "mimetype": "text/x-python",
   "name": "python",
   "nbconvert_exporter": "python",
   "pygments_lexer": "ipython3",
   "version": "3.11.5"
  }
 },
 "nbformat": 4,
 "nbformat_minor": 5
}
