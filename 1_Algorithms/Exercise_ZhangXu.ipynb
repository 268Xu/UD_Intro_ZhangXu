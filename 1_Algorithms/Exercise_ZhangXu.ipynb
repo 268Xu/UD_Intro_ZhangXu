{
 "cells": [
  {
   "cell_type": "markdown",
   "id": "0e922dce",
   "metadata": {},
   "source": [
    "# Exercise 00\n",
    "Write a piece of code that allocates a list of 20 integers and initializes each element by its index multiplied by 5. Print the result."
   ]
  },
  {
   "cell_type": "code",
   "execution_count": 1,
   "id": "4e1043c4",
   "metadata": {},
   "outputs": [
    {
     "name": "stdout",
     "output_type": "stream",
     "text": [
      "[0, 5, 10, 15, 20, 25, 30, 35, 40, 45, 50, 55, 60, 65, 70, 75, 80, 85, 90, 95]\n"
     ]
    }
   ],
   "source": [
    "ls = [5 * i for i in range(20)]\n",
    "print(ls)"
   ]
  },
  {
   "cell_type": "code",
   "execution_count": 3,
   "id": "c1d964c8",
   "metadata": {},
   "outputs": [
    {
     "name": "stdout",
     "output_type": "stream",
     "text": [
      "[0, 5, 10, 15, 20, 25, 30, 35, 40, 45, 50, 55, 60, 65, 70, 75, 80, 85, 90, 95]\n"
     ]
    }
   ],
   "source": [
    "mylist=[]\n",
    "for i in range(20):\n",
    "    mylist.append(i*5)\n",
    "print(mylist)"
   ]
  },
  {
   "cell_type": "markdown",
   "id": "a1110cd8",
   "metadata": {},
   "source": [
    "# Exercise 01\n",
    "Define a function that takes an integer as input, prints all integers that it is divisable by, and returns the largest one."
   ]
  },
  {
   "cell_type": "code",
   "execution_count": 2,
   "id": "e3f2994c",
   "metadata": {},
   "outputs": [],
   "source": [
    "def fun(n):\n",
    "    for i in range(1,n+1):\n",
    "        if n%i==0:\n",
    "            print(i)\n",
    "    return n"
   ]
  },
  {
   "cell_type": "markdown",
   "id": "fb4c634f",
   "metadata": {},
   "source": [
    "# Exercise 02\n",
    "create a dictionary with 6 keys and values of your choice\n",
    "write a function that takes a dictionary and a value as input and returns whether the value occurs as a key in the dictionary\n",
    "write a function that takes a dictionary as input, and returns the dictionary but the keys are swapped with their values (resolve the issue if a value occurs twice!)"
   ]
  },
  {
   "cell_type": "code",
   "execution_count": 3,
   "id": "43ce4568",
   "metadata": {},
   "outputs": [
    {
     "name": "stdout",
     "output_type": "stream",
     "text": [
      "{'Xu Zhang': 'name', 23: 'age', 'HRX': 'bf', 'HuangRunxi': 'bl', 24: 'bf_age', 'ucl': 'school'}\n"
     ]
    }
   ],
   "source": [
    "d = {\"name\": \"Xu Zhang\", \"age\": 23, \"bf\": \"HRX\", \"bl\":\"HuangRunxi\", \"bf_age\":24, \"school\":\"ucl\"}\n",
    "\n",
    "def fun(dic, x):\n",
    "    return x in dic.keys()\n",
    "\n",
    "def reverse(dic):\n",
    "    a = {}\n",
    "    for i in dic.keys():\n",
    "        a[dic[i]] = i\n",
    "    return a\n",
    "\n",
    "print(reverse(d))"
   ]
  },
  {
   "cell_type": "markdown",
   "id": "1dc43572",
   "metadata": {},
   "source": [
    "# Exercise 03\n",
    "Define a function that creates a dictionary of the first n fibonacci numbers as values paired with their indices as keys."
   ]
  },
  {
   "cell_type": "code",
   "execution_count": 4,
   "id": "f4de4b4f",
   "metadata": {},
   "outputs": [
    {
     "name": "stdout",
     "output_type": "stream",
     "text": [
      "{1: 1, 2: 1, 3: 2, 4: 3, 5: 5, 6: 8, 7: 13, 8: 21, 9: 34, 10: 55}\n"
     ]
    }
   ],
   "source": [
    "def fun(n):\n",
    "    d = {1:1, 2:1}\n",
    "    for i in range(3, n + 1):\n",
    "        d[i] = d[i - 1] + d[i - 2]\n",
    "    return d\n",
    "\n",
    "print(fun(10))"
   ]
  }
 ],
 "metadata": {
  "kernelspec": {
   "display_name": "Python 3 (ipykernel)",
   "language": "python",
   "name": "python3"
  },
  "language_info": {
   "codemirror_mode": {
    "name": "ipython",
    "version": 3
   },
   "file_extension": ".py",
   "mimetype": "text/x-python",
   "name": "python",
   "nbconvert_exporter": "python",
   "pygments_lexer": "ipython3",
   "version": "3.11.5"
  }
 },
 "nbformat": 4,
 "nbformat_minor": 5
}
