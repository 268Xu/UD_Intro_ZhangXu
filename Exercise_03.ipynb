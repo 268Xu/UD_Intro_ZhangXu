{
 "cells": [
  {
   "cell_type": "code",
   "execution_count": 1,
   "id": "3b75facf",
   "metadata": {},
   "outputs": [
    {
     "data": {
      "text/plain": [
       "0.0"
      ]
     },
     "execution_count": 1,
     "metadata": {},
     "output_type": "execute_result"
    }
   ],
   "source": [
    "0/49"
   ]
  },
  {
   "cell_type": "code",
   "execution_count": 2,
   "id": "ffb9d585",
   "metadata": {},
   "outputs": [
    {
     "data": {
      "text/plain": [
       "3.63265306122449"
      ]
     },
     "execution_count": 2,
     "metadata": {},
     "output_type": "execute_result"
    }
   ],
   "source": [
    "178/49"
   ]
  },
  {
   "cell_type": "code",
   "execution_count": 3,
   "id": "07d96c6a",
   "metadata": {},
   "outputs": [
    {
     "data": {
      "text/plain": [
       "-0.42857142857142855"
      ]
     },
     "execution_count": 3,
     "metadata": {},
     "output_type": "execute_result"
    }
   ],
   "source": [
    "-21/49"
   ]
  },
  {
   "cell_type": "code",
   "execution_count": 4,
   "id": "d4ec906e",
   "metadata": {},
   "outputs": [
    {
     "data": {
      "text/plain": [
       "59.95918367346939"
      ]
     },
     "execution_count": 4,
     "metadata": {},
     "output_type": "execute_result"
    }
   ],
   "source": [
    "2938/49"
   ]
  },
  {
   "cell_type": "code",
   "execution_count": 5,
   "id": "e85307f8",
   "metadata": {},
   "outputs": [
    {
     "data": {
      "text/plain": [
       "4337328"
      ]
     },
     "execution_count": 5,
     "metadata": {},
     "output_type": "execute_result"
    }
   ],
   "source": [
    "436*9948"
   ]
  },
  {
   "cell_type": "code",
   "execution_count": 6,
   "id": "d6a78921",
   "metadata": {},
   "outputs": [
    {
     "data": {
      "text/plain": [
       "3833759992447475122176"
      ]
     },
     "execution_count": 6,
     "metadata": {},
     "output_type": "execute_result"
    }
   ],
   "source": [
    "12**20"
   ]
  }
 ],
 "metadata": {
  "kernelspec": {
   "display_name": "Python 3 (ipykernel)",
   "language": "python",
   "name": "python3"
  },
  "language_info": {
   "codemirror_mode": {
    "name": "ipython",
    "version": 3
   },
   "file_extension": ".py",
   "mimetype": "text/x-python",
   "name": "python",
   "nbconvert_exporter": "python",
   "pygments_lexer": "ipython3",
   "version": "3.11.5"
  }
 },
 "nbformat": 4,
 "nbformat_minor": 5
}
